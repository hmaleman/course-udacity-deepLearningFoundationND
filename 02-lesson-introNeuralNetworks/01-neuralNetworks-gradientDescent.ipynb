{
 "cells": [
  {
   "cell_type": "markdown",
   "metadata": {},
   "source": [
    "# Intro to Neural Networks\n",
    "- Course: Deep Learning Foundation Nanodegree\n",
    "- Lesson 7: Intro to Neural Networks\n",
    "- Topic: Gradient Descent "
   ]
  },
  {
   "cell_type": "markdown",
   "metadata": {},
   "source": [
    "Check topics 10 - 12 for math.\n",
    "\n",
    "The example below shows the Gradient Descent single step code for a single neuron, with two inputs attached to two weights and no bias."
   ]
  },
  {
   "cell_type": "code",
   "execution_count": 2,
   "metadata": {
    "collapsed": false
   },
   "outputs": [
    {
     "name": "stdout",
     "output_type": "stream",
     "text": [
      "Neural Network output:\n",
      "0.377540668798\n",
      "Amount of Error:\n",
      "0.122459331202\n",
      "Change in Weights:\n",
      "[ 0.0143892  0.0287784]\n"
     ]
    }
   ],
   "source": [
    "import numpy as np\n",
    "\n",
    "def sigmoid(x):\n",
    "    \"\"\"\n",
    "    Calculate sigmoid\n",
    "    \"\"\"\n",
    "    return 1/(1 + np.exp(-x))\n",
    "\n",
    "learnrate = 0.5\n",
    "x = np.array([1, 2])\n",
    "y = np.array(0.5)\n",
    "\n",
    "# Initial weights\n",
    "w = np.array([0.5, -0.5])\n",
    "\n",
    "# Calculate one gradient descent step for each weight\n",
    "# Step 1: Calculate the inputs x weights (only one dataset entry, no sum required)\n",
    "h = np.dot(x, w)\n",
    "\n",
    "# Step 2: Calculate output of neural network\n",
    "nn_output = sigmoid(h)\n",
    "\n",
    "# Step 3: Calculate error of neural network\n",
    "error = y - nn_output\n",
    "\n",
    "# Step 4: Calculate the error term (intermediate step to calculate the gradient)\n",
    "# It requires the activation function derivate - for this case = sigmoid(h) * (1 - sigmoid(h))\n",
    "error_term = error * sigmoid(h) * (1 - sigmoid(h))\n",
    "\n",
    "# Step 5: Calculate change in weights\n",
    "del_w = learnrate * error_term * x\n",
    "\n",
    "print('Neural Network output:')\n",
    "print(nn_output)\n",
    "print('Amount of Error:')\n",
    "print(error)\n",
    "print('Change in Weights:')\n",
    "print(del_w)"
   ]
  }
 ],
 "metadata": {
  "anaconda-cloud": {},
  "kernelspec": {
   "display_name": "Python [conda env:siraj-regression]",
   "language": "python",
   "name": "conda-env-siraj-regression-py"
  },
  "language_info": {
   "codemirror_mode": {
    "name": "ipython",
    "version": 2
   },
   "file_extension": ".py",
   "mimetype": "text/x-python",
   "name": "python",
   "nbconvert_exporter": "python",
   "pygments_lexer": "ipython2",
   "version": "2.7.13"
  }
 },
 "nbformat": 4,
 "nbformat_minor": 1
}
