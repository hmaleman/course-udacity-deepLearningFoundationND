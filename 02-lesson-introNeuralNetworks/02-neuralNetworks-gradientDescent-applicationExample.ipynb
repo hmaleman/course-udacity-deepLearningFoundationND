{
 "cells": [
  {
   "cell_type": "markdown",
   "metadata": {},
   "source": [
    "# Intro to Neural Networks\n",
    "- Course: Deep Learning Foundation Nanodegree\n",
    "- Lesson 7: Intro to Neural Networks\n",
    "- Topic: Gradient Descent "
   ]
  },
  {
   "cell_type": "markdown",
   "metadata": {},
   "source": [
    "The example below shows the implementation of Gradiant Descent into a Neural Network with a single neuron in order to update the weights. Check topic 12 for algorithm description for gradient application on a dataset (instead of only one input dataset as previous example). A new error calculation for threshold is also introduced (Mean of Square Errors).\n",
    "\n",
    "Dataset context: University admission based on GPA, GRE and School rank.\n",
    "http://www.ats.ucla.edu/stat/data/binary.csv."
   ]
  },
  {
   "cell_type": "markdown",
   "metadata": {},
   "source": [
    "The following section prepares the input data for a gaussian distribution 0 centered with standard deviation 1."
   ]
  },
  {
   "cell_type": "code",
   "execution_count": 1,
   "metadata": {
    "collapsed": true
   },
   "outputs": [],
   "source": [
    "import numpy as np\n",
    "import pandas as pd\n",
    "\n",
    "admissions = pd.read_csv('binary.csv')\n",
    "\n",
    "# Make dummy variables for rank\n",
    "data = pd.concat([admissions, pd.get_dummies(admissions['rank'], prefix='rank')], axis=1)\n",
    "data = data.drop('rank', axis=1)\n",
    "\n",
    "# Standarize features\n",
    "for field in ['gre', 'gpa']:\n",
    "    mean, std = data[field].mean(), data[field].std()\n",
    "    data.loc[:,field] = (data[field]-mean)/std\n",
    "    \n",
    "# Split off random 10% of the data for testing\n",
    "np.random.seed(42)\n",
    "sample = np.random.choice(data.index, size=int(len(data)*0.9), replace=False)\n",
    "data, test_data = data.ix[sample], data.drop(sample)\n",
    "\n",
    "# Split into features and targets\n",
    "features, targets = data.drop('admit', axis=1), data['admit']\n",
    "features_test, targets_test = test_data.drop('admit', axis=1), test_data['admit']\n"
   ]
  },
  {
   "cell_type": "markdown",
   "metadata": {},
   "source": [
    "Apply Gradient Descent to optimize weights"
   ]
  },
  {
   "cell_type": "code",
   "execution_count": 11,
   "metadata": {
    "collapsed": false
   },
   "outputs": [
    {
     "name": "stdout",
     "output_type": "stream",
     "text": [
      "('Train loss: ', 0.26404323469906082)\n",
      "('Train loss: ', 0.2516071930665722)\n",
      "('Train loss: ', 0.24211081845113358)\n",
      "('Train loss: ', 0.23463525567444132)\n",
      "('Train loss: ', 0.22862519972113274)\n",
      "('Train loss: ', 0.22373253255332445)\n",
      "('Train loss: ', 0.21972023929981527)\n",
      "('Train loss: ', 0.21641376247182467)\n",
      "('Train loss: ', 0.2136776976696495)\n",
      "('Train loss: ', 0.21140425448119946)\n",
      "Prediction accuracy: 0.775\n"
     ]
    }
   ],
   "source": [
    "import numpy as np\n",
    "#from data_prep import features, targets, features_test, targets_test\n",
    "\n",
    "\n",
    "def sigmoid(x):\n",
    "    \"\"\"\n",
    "    Calculate sigmoid\n",
    "    \"\"\"\n",
    "    return 1 / (1 + np.exp(-x))\n",
    "\n",
    "# Use to same seed to make debugging easier\n",
    "np.random.seed(42)\n",
    "\n",
    "n_records, n_features = features.shape\n",
    "last_loss = None\n",
    "\n",
    "# Initialize weights\n",
    "weights = np.random.normal(scale=1 / n_features**.5, size=n_features)\n",
    "\n",
    "# Neural Network hyperparameters\n",
    "epochs = 1000\n",
    "learnrate = 0.05\n",
    "\n",
    "for e in range(epochs):\n",
    "    del_w = np.zeros(weights.shape)\n",
    "    for x, y in zip(features.values, targets):\n",
    "        \n",
    "        # Calculate one gradient descent step for each weight\n",
    "        # Step 1: Calculate the inputs x weights (only one dataset entry, no sum required)\n",
    "        h = np.dot(x, weights)\n",
    "\n",
    "        # Step 2: Calculate output of neural network\n",
    "        nn_output = sigmoid(h)\n",
    "\n",
    "        # Step 3: Calculate error of neural network\n",
    "        error = y - nn_output\n",
    "\n",
    "        # Step 4: Calculate the error term (intermediate step to calculate the gradient)\n",
    "        # It requires the activation function derivate - for this case activation function\n",
    "        # sigmoid_prime = sigmoid(h) * (1 - sigmoid(h))\n",
    "        error_term = error * sigmoid(h) * (1 - sigmoid(h))\n",
    "\n",
    "        # Step 5: Calculate change in weights\n",
    "        del_w += learnrate * error_term * x\n",
    "\n",
    "    # Update weights\n",
    "    weights += del_w / n_records\n",
    "\n",
    "    # Printing out the mean square error on the training set\n",
    "    if e % (epochs / 10) == 0:\n",
    "        out = sigmoid(np.dot(features, weights))\n",
    "        loss = np.mean((out - targets) ** 2)\n",
    "        if last_loss and last_loss < loss:\n",
    "            print(\"Train loss: \", loss, \"  WARNING - Loss Increasing\")\n",
    "        else:\n",
    "            print(\"Train loss: \", loss)\n",
    "        last_loss = loss\n",
    "\n",
    "\n",
    "# Calculate accuracy on test data\n",
    "tes_out = sigmoid(np.dot(features_test, weights))\n",
    "predictions = tes_out > 0.5\n",
    "accuracy = np.mean(predictions == targets_test)\n",
    "print(\"Prediction accuracy: {:.3f}\".format(accuracy))"
   ]
  }
 ],
 "metadata": {
  "anaconda-cloud": {},
  "kernelspec": {
   "display_name": "Python [conda env:siraj-regression]",
   "language": "python",
   "name": "conda-env-siraj-regression-py"
  },
  "language_info": {
   "codemirror_mode": {
    "name": "ipython",
    "version": 2
   },
   "file_extension": ".py",
   "mimetype": "text/x-python",
   "name": "python",
   "nbconvert_exporter": "python",
   "pygments_lexer": "ipython2",
   "version": "2.7.13"
  }
 },
 "nbformat": 4,
 "nbformat_minor": 1
}
